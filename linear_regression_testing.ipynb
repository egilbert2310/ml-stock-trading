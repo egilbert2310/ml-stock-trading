{
 "cells": [
  {
   "cell_type": "code",
   "execution_count": 6,
   "metadata": {},
   "outputs": [],
   "source": [
    "from linear_regression import StockLinearRegression\n",
    "import pandas as pd\n",
    "import numpy as np\n",
    "from data_prep import load_data, prep_data"
   ]
  },
  {
   "cell_type": "code",
   "execution_count": 7,
   "metadata": {},
   "outputs": [],
   "source": [
    "df = load_data()\n",
    "df = prep_data(df=df)"
   ]
  },
  {
   "cell_type": "code",
   "execution_count": 8,
   "metadata": {},
   "outputs": [],
   "source": [
    "#testing\n",
    "stock_linear_regression = StockLinearRegression()\n"
   ]
  },
  {
   "cell_type": "code",
   "execution_count": 9,
   "metadata": {},
   "outputs": [],
   "source": [
    "coef_data = stock_linear_regression.create_coef_data(df=df, days = [7,3,9,10])"
   ]
  },
  {
   "cell_type": "code",
   "execution_count": 10,
   "metadata": {},
   "outputs": [
    {
     "data": {
      "text/html": [
       "<div>\n",
       "<style scoped>\n",
       "    .dataframe tbody tr th:only-of-type {\n",
       "        vertical-align: middle;\n",
       "    }\n",
       "\n",
       "    .dataframe tbody tr th {\n",
       "        vertical-align: top;\n",
       "    }\n",
       "\n",
       "    .dataframe thead th {\n",
       "        text-align: right;\n",
       "    }\n",
       "</style>\n",
       "<table border=\"1\" class=\"dataframe\">\n",
       "  <thead>\n",
       "    <tr style=\"text-align: right;\">\n",
       "      <th></th>\n",
       "      <th>7_day_linear_regression</th>\n",
       "      <th>3_day_linear_regression</th>\n",
       "      <th>9_day_linear_regression</th>\n",
       "      <th>10_day_linear_regression</th>\n",
       "    </tr>\n",
       "  </thead>\n",
       "  <tbody>\n",
       "    <tr>\n",
       "      <th>0</th>\n",
       "      <td>-2.890940e-15</td>\n",
       "      <td>-1.621528e-15</td>\n",
       "      <td>-3.840604e-15</td>\n",
       "      <td>-3.623568e-15</td>\n",
       "    </tr>\n",
       "    <tr>\n",
       "      <th>1</th>\n",
       "      <td>-4.094597e-15</td>\n",
       "      <td>-1.068171e-14</td>\n",
       "      <td>-3.986210e-15</td>\n",
       "      <td>-3.807101e-15</td>\n",
       "    </tr>\n",
       "    <tr>\n",
       "      <th>2</th>\n",
       "      <td>-3.732728e-15</td>\n",
       "      <td>-1.083333e-15</td>\n",
       "      <td>-3.348107e-15</td>\n",
       "      <td>-2.879046e-15</td>\n",
       "    </tr>\n",
       "    <tr>\n",
       "      <th>3</th>\n",
       "      <td>-3.510552e-15</td>\n",
       "      <td>-5.662616e-15</td>\n",
       "      <td>-2.856460e-15</td>\n",
       "      <td>-2.704934e-15</td>\n",
       "    </tr>\n",
       "    <tr>\n",
       "      <th>4</th>\n",
       "      <td>-3.395052e-15</td>\n",
       "      <td>-1.578952e-15</td>\n",
       "      <td>-2.575032e-15</td>\n",
       "      <td>-2.564576e-15</td>\n",
       "    </tr>\n",
       "    <tr>\n",
       "      <th>...</th>\n",
       "      <td>...</td>\n",
       "      <td>...</td>\n",
       "      <td>...</td>\n",
       "      <td>...</td>\n",
       "    </tr>\n",
       "    <tr>\n",
       "      <th>1254</th>\n",
       "      <td>-1.064037e-14</td>\n",
       "      <td>-2.869925e-14</td>\n",
       "      <td>-1.064037e-14</td>\n",
       "      <td>-1.064037e-14</td>\n",
       "    </tr>\n",
       "    <tr>\n",
       "      <th>1255</th>\n",
       "      <td>5.042989e-16</td>\n",
       "      <td>2.061075e-15</td>\n",
       "      <td>5.042989e-16</td>\n",
       "      <td>5.042989e-16</td>\n",
       "    </tr>\n",
       "    <tr>\n",
       "      <th>1256</th>\n",
       "      <td>1.765046e-14</td>\n",
       "      <td>1.765046e-14</td>\n",
       "      <td>1.765046e-14</td>\n",
       "      <td>1.765046e-14</td>\n",
       "    </tr>\n",
       "    <tr>\n",
       "      <th>1257</th>\n",
       "      <td>-4.039352e-14</td>\n",
       "      <td>-4.039352e-14</td>\n",
       "      <td>-4.039352e-14</td>\n",
       "      <td>-4.039352e-14</td>\n",
       "    </tr>\n",
       "    <tr>\n",
       "      <th>1258</th>\n",
       "      <td>0.000000e+00</td>\n",
       "      <td>0.000000e+00</td>\n",
       "      <td>0.000000e+00</td>\n",
       "      <td>0.000000e+00</td>\n",
       "    </tr>\n",
       "  </tbody>\n",
       "</table>\n",
       "<p>1259 rows × 4 columns</p>\n",
       "</div>"
      ],
      "text/plain": [
       "      7_day_linear_regression  3_day_linear_regression  \\\n",
       "0               -2.890940e-15            -1.621528e-15   \n",
       "1               -4.094597e-15            -1.068171e-14   \n",
       "2               -3.732728e-15            -1.083333e-15   \n",
       "3               -3.510552e-15            -5.662616e-15   \n",
       "4               -3.395052e-15            -1.578952e-15   \n",
       "...                       ...                      ...   \n",
       "1254            -1.064037e-14            -2.869925e-14   \n",
       "1255             5.042989e-16             2.061075e-15   \n",
       "1256             1.765046e-14             1.765046e-14   \n",
       "1257            -4.039352e-14            -4.039352e-14   \n",
       "1258             0.000000e+00             0.000000e+00   \n",
       "\n",
       "      9_day_linear_regression  10_day_linear_regression  \n",
       "0               -3.840604e-15             -3.623568e-15  \n",
       "1               -3.986210e-15             -3.807101e-15  \n",
       "2               -3.348107e-15             -2.879046e-15  \n",
       "3               -2.856460e-15             -2.704934e-15  \n",
       "4               -2.575032e-15             -2.564576e-15  \n",
       "...                       ...                       ...  \n",
       "1254            -1.064037e-14             -1.064037e-14  \n",
       "1255             5.042989e-16              5.042989e-16  \n",
       "1256             1.765046e-14              1.765046e-14  \n",
       "1257            -4.039352e-14             -4.039352e-14  \n",
       "1258             0.000000e+00              0.000000e+00  \n",
       "\n",
       "[1259 rows x 4 columns]"
      ]
     },
     "execution_count": 10,
     "metadata": {},
     "output_type": "execute_result"
    }
   ],
   "source": [
    "coef_data"
   ]
  },
  {
   "cell_type": "code",
   "execution_count": 4,
   "metadata": {},
   "outputs": [],
   "source": [
    "three_day_values = stock_linear_regression.creating_n_day_dfs(df=df, n = 3)"
   ]
  },
  {
   "cell_type": "code",
   "execution_count": 5,
   "metadata": {},
   "outputs": [
    {
     "data": {
      "text/html": [
       "<div>\n",
       "<style scoped>\n",
       "    .dataframe tbody tr th:only-of-type {\n",
       "        vertical-align: middle;\n",
       "    }\n",
       "\n",
       "    .dataframe tbody tr th {\n",
       "        vertical-align: top;\n",
       "    }\n",
       "\n",
       "    .dataframe thead th {\n",
       "        text-align: right;\n",
       "    }\n",
       "</style>\n",
       "<table border=\"1\" class=\"dataframe\">\n",
       "  <thead>\n",
       "    <tr style=\"text-align: right;\">\n",
       "      <th></th>\n",
       "      <th>date</th>\n",
       "      <th>open</th>\n",
       "      <th>high</th>\n",
       "      <th>low</th>\n",
       "      <th>close</th>\n",
       "      <th>volume</th>\n",
       "      <th>normalized_value</th>\n",
       "    </tr>\n",
       "  </thead>\n",
       "  <tbody>\n",
       "    <tr>\n",
       "      <th>0</th>\n",
       "      <td>2013-02-08</td>\n",
       "      <td>67.7142</td>\n",
       "      <td>68.4014</td>\n",
       "      <td>66.8928</td>\n",
       "      <td>67.8542</td>\n",
       "      <td>158168416</td>\n",
       "      <td>-0.016545</td>\n",
       "    </tr>\n",
       "    <tr>\n",
       "      <th>1</th>\n",
       "      <td>2013-02-11</td>\n",
       "      <td>68.0714</td>\n",
       "      <td>69.2771</td>\n",
       "      <td>67.6071</td>\n",
       "      <td>68.5614</td>\n",
       "      <td>129029425</td>\n",
       "      <td>-0.021594</td>\n",
       "    </tr>\n",
       "    <tr>\n",
       "      <th>2</th>\n",
       "      <td>2013-02-12</td>\n",
       "      <td>68.5014</td>\n",
       "      <td>68.9114</td>\n",
       "      <td>66.8205</td>\n",
       "      <td>66.8428</td>\n",
       "      <td>151829363</td>\n",
       "      <td>-0.947358</td>\n",
       "    </tr>\n",
       "  </tbody>\n",
       "</table>\n",
       "</div>"
      ],
      "text/plain": [
       "        date     open     high      low    close     volume  normalized_value\n",
       "0 2013-02-08  67.7142  68.4014  66.8928  67.8542  158168416         -0.016545\n",
       "1 2013-02-11  68.0714  69.2771  67.6071  68.5614  129029425         -0.021594\n",
       "2 2013-02-12  68.5014  68.9114  66.8205  66.8428  151829363         -0.947358"
      ]
     },
     "execution_count": 5,
     "metadata": {},
     "output_type": "execute_result"
    }
   ],
   "source": [
    "three_day_values[0]"
   ]
  },
  {
   "cell_type": "code",
   "execution_count": 6,
   "metadata": {},
   "outputs": [],
   "source": [
    "X= df.date.values.reshape(-1,1)\n",
    "y = df.close.values"
   ]
  },
  {
   "cell_type": "code",
   "execution_count": 7,
   "metadata": {},
   "outputs": [],
   "source": [
    "coef_ = stock_linear_regression.linear_regression_coefs(X=X, y=y)"
   ]
  },
  {
   "cell_type": "code",
   "execution_count": 8,
   "metadata": {},
   "outputs": [
    {
     "data": {
      "text/plain": [
       "5.910146877665056e-16"
      ]
     },
     "execution_count": 8,
     "metadata": {},
     "output_type": "execute_result"
    }
   ],
   "source": [
    "coef_"
   ]
  },
  {
   "cell_type": "code",
   "execution_count": 9,
   "metadata": {},
   "outputs": [],
   "source": [
    "coef_s = []\n",
    "\n",
    "for df in three_day_values:\n",
    "    X= df.date.values.reshape(-1,1)\n",
    "    y = df.close.values\n",
    "    coef_ = stock_linear_regression.linear_regression_coefs(X=X, y=y)\n",
    "    coef_s.append(coef_)\n"
   ]
  },
  {
   "cell_type": "code",
   "execution_count": null,
   "metadata": {},
   "outputs": [],
   "source": [
    "def n_day_linear_regression(n_day_values):\n",
    "    n_day_coef_s = []\n",
    "    for df in n_day_values:\n",
    "        X = df.date.values.reshape(-1,1)\n",
    "        y = df.close.values\n",
    "        coef_ = stock_linear_regression.linear_regression_coefs(X=X, y=y)\n",
    "        coef_s.append(coef_)\n",
    "    return n_day_coef_s"
   ]
  }
 ],
 "metadata": {
  "kernelspec": {
   "display_name": "base",
   "language": "python",
   "name": "python3"
  },
  "language_info": {
   "codemirror_mode": {
    "name": "ipython",
    "version": 3
   },
   "file_extension": ".py",
   "mimetype": "text/x-python",
   "name": "python",
   "nbconvert_exporter": "python",
   "pygments_lexer": "ipython3",
   "version": "3.8.5"
  },
  "orig_nbformat": 4
 },
 "nbformat": 4,
 "nbformat_minor": 2
}
